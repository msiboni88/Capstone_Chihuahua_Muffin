{
 "cells": [
  {
   "cell_type": "code",
   "execution_count": null,
   "metadata": {},
   "outputs": [],
   "source": [
    "# This code is modeled after stack overflow user Vicky Christina's code\n",
    "\n",
    "# Importing Google API wrapper\n",
    "from google_images_download import google_images_download \n",
    "import sys\n",
    "orig_stdout = sys.stdout\n",
    "\n",
    "# set up scraper\n",
    "f = open('URLS.txt', 'w')\n",
    "sys.stdout = f"
   ]
  },
  {
   "cell_type": "code",
   "execution_count": null,
   "metadata": {},
   "outputs": [],
   "source": [
    "# Muffin keywords ran (~94 images per search): \n",
    "# Needed to search MANY keywords because: \n",
    "# 1. 100 most recent images or fewer per keyword search\n",
    "# 2. Duplicate images from different keyword searches\n",
    "# 3. Non applicaple images in the search \n",
    "# (ex. 'Chihuahua' is a city in Mexico, and some photos form there)"
   ]
  },
  {
   "cell_type": "code",
   "execution_count": null,
   "metadata": {},
   "outputs": [],
   "source": [
    "# list of words to pull images for\n",
    "muffin_words = [\n",
    "    'blueberry muffin close-up', 'blueberries muffin', 'blueberries scone', \n",
    "    'blueberry muffin', 'blueberry muffin recipe', 'blueberry muffins', \n",
    "    'blueberry mufin', 'blueberry scone', 'bluebery muffin', 'bluebery mufin', \n",
    "    'one blueberry muffin', 'single blueberry muffin', 'Starbucks blueberry muffin', \n",
    "    \"Pete's blueberry muffin\", 'mini blueberry muffin', 'blueberry muffin top', \n",
    "    'giant blueberry muffin', 'low fat blueberry muffin', 'blueberry cupcake', \n",
    "    'jumbo blueberry muffin',  'blueberry muffin side view', 'blueberry muffin zoom', \n",
    "    'blueberry muffin bottom', 'blueberry minimuffin', 'blue berry muffin', \n",
    "    'blueberrymuffin', 'blue bery muffin', 'blueberymufin', 'blues muffin', \n",
    "    'berries muffin', 'blueberyy muffin', 'muffin de arandanos', 'muffin aux myrtilles', \n",
    "    'Blaubeermuffin', 'muffin fraochan', 'Bolinho de mirtilo', 'blabarsmuffin', \n",
    "    'bosbessenmuffin', 'muffin od borovnice', 'bloubessie muffin', 'borovnica za muffine', \n",
    "    'boruvkovy muffin', , 'blua mufino', 'mustika muffin', 'mustikkamuffinssi', \n",
    "    'blauwe muffin', 'muffin de arandanos', 'mellenu smalkmaizite', 'melyniu keksas', \n",
    "    'te kaeka mira', 'Muffin jagodowy', 'briosa cu afine', 'sulu silika', \n",
    "    'muffin subh-craoibhe', 'cucoriedkovy muffin', 'borovnicev muffin', 'buluug buluug ah', \n",
    "    'muffin buah beri biru', 'yabanmersinli kek', \"ko'k piyoz\", 'banh nưong xop viet quat', \n",
    "    'myffin llus', 'biriki muffin'\n",
    "    ]\n",
    "chihuaua_words = [\n",
    "    'cheagle', 'fat chihuahua', 'JackChis', 'ugly chihuahua', 'wet chihuahua', 'big chihuahua', \n",
    "    'chihuahua close-up', 'chihuahua ears', 'chihuahua face', 'chihuahua frown', \n",
    "    'chihuahua happy', 'chihuahua mouth', 'chihuahua nose', 'chihuahua puppy', 'chihuahua small', \n",
    "    'chihuahua smile', 'chihuahua tongue', 'chihuahua whiskers', 'chihuahua zoom', \n",
    "    'Chiwahwah', 'Chiwauwau', 'Chiwawa', 'Chiwawa puppy', 'chiweenie', 'chocolate brown chihuahua',\n",
    "    'light brown chihuahua', 'old chihuahua'\n",
    "    ]"
   ]
  },
  {
   "cell_type": "code",
   "execution_count": null,
   "metadata": {},
   "outputs": [],
   "source": [
    "for word in chihuaua_words: \n",
    "    response = google_images_download.googleimagesdownload()\n",
    "\n",
    "    arguments = {\"keywords\"     : word,\n",
    "                 \"limit\"        : 100,\n",
    "                 \"print_urls\"   : False,\n",
    "                 \"size\"         : \">2MP\",\n",
    "                 }\n",
    "    # saves each word's photo in to a folder named word under a folder named downloads\n",
    "    paths = response.download(arguments)\n",
    "\n",
    "    sys.stdout = orig_stdout\n",
    "    f.close()\n",
    "    \n",
    "    # collecting and  URLs of images (I did not wind up using URLs)\n",
    "    with open('URLS.txt') as f:\n",
    "        content = f.readlines()\n",
    "    f.close()\n",
    "\n",
    "    urls = []\n",
    "    for j in range(len(content)):\n",
    "        if content[j][:9] == 'Completed':\n",
    "            urls.append(content[j-1][11:-1])   \n",
    "    print(urls)"
   ]
  }
 ],
 "metadata": {
  "kernelspec": {
   "display_name": "Python 3",
   "language": "python",
   "name": "python3"
  },
  "language_info": {
   "codemirror_mode": {
    "name": "ipython",
    "version": 3
   },
   "file_extension": ".py",
   "mimetype": "text/x-python",
   "name": "python",
   "nbconvert_exporter": "python",
   "pygments_lexer": "ipython3",
   "version": "3.7.3"
  }
 },
 "nbformat": 4,
 "nbformat_minor": 2
}
