{
 "cells": [
  {
   "cell_type": "code",
   "execution_count": 1,
   "metadata": {},
   "outputs": [
    {
     "name": "stderr",
     "output_type": "stream",
     "text": [
      "/Users/mags/anaconda3/lib/python3.7/site-packages/dask/config.py:168: YAMLLoadWarning: calling yaml.load() without Loader=... is deprecated, as the default Loader is unsafe. Please read https://msg.pyyaml.org/load for full details.\n",
      "  data = yaml.load(f.read()) or {}\n"
     ]
    }
   ],
   "source": [
    "# Importing libraries to access files; adjust images\n",
    "import os\n",
    "\n",
    "from skimage import io, img_as_float\n",
    "from skimage.color import rgb2gray, rgba2rgb\n",
    "from skimage.transform import rescale, resize, downscale_local_mean\n",
    "\n",
    "import numpy as np\n",
    "\n",
    "import pickle"
   ]
  },
  {
   "cell_type": "code",
   "execution_count": 2,
   "metadata": {},
   "outputs": [],
   "source": [
    "# Image paths\n",
    "muffin_path = './muffin images/'\n",
    "chihuahua_path = './chihuahua/'\n",
    "\n",
    "# specify crop size of images to be used\n",
    "set_width = 150\n",
    "set_height = 150"
   ]
  },
  {
   "cell_type": "code",
   "execution_count": 3,
   "metadata": {},
   "outputs": [
    {
     "name": "stderr",
     "output_type": "stream",
     "text": [
      "/Users/mags/anaconda3/lib/python3.7/site-packages/skimage/transform/_warps.py:105: UserWarning: The default mode, 'constant', will be changed to 'reflect' in skimage 0.15.\n",
      "  warn(\"The default mode, 'constant', will be changed to 'reflect' in \"\n"
     ]
    },
    {
     "name": "stdout",
     "output_type": "stream",
     "text": [
      "Error at IMG_4460.png\n",
      "Processed 200 out of 2000 images.\n",
      "Error at .DS_Store\n",
      "Processed 400 out of 2000 images.\n",
      "Processed 600 out of 2000 images.\n"
     ]
    },
    {
     "name": "stderr",
     "output_type": "stream",
     "text": [
      "/Users/mags/anaconda3/lib/python3.7/site-packages/PIL/TiffImagePlugin.py:804: UserWarning: Corrupt EXIF data.  Expecting to read 4 bytes but only got 0. \n",
      "  warnings.warn(str(msg))\n"
     ]
    },
    {
     "name": "stdout",
     "output_type": "stream",
     "text": [
      "Processed 800 out of 2000 images.\n"
     ]
    },
    {
     "name": "stderr",
     "output_type": "stream",
     "text": [
      "/Users/mags/anaconda3/lib/python3.7/site-packages/PIL/TiffImagePlugin.py:786: UserWarning: Possibly corrupt EXIF data.  Expecting to read 12 bytes but only got 10. Skipping tag 42037\n",
      "  \" Skipping tag %s\" % (size, len(data), tag)\n"
     ]
    },
    {
     "name": "stdout",
     "output_type": "stream",
     "text": [
      "Processed 1000 out of 2000 images.\n",
      "Processed 1200 out of 2000 images.\n",
      "Processed 1400 out of 2000 images.\n",
      "Processed 1600 out of 2000 images.\n",
      "Processed 1800 out of 2000 images.\n"
     ]
    },
    {
     "name": "stderr",
     "output_type": "stream",
     "text": [
      "/Users/mags/anaconda3/lib/python3.7/site-packages/PIL/TiffImagePlugin.py:786: UserWarning: Possibly corrupt EXIF data.  Expecting to read 21 bytes but only got 20. Skipping tag 42036\n",
      "  \" Skipping tag %s\" % (size, len(data), tag)\n"
     ]
    },
    {
     "name": "stdout",
     "output_type": "stream",
     "text": [
      "Processed 2000 out of 2000 images.\n"
     ]
    }
   ],
   "source": [
    "# greyscale, crop, resize and add to an array a file of images \n",
    "\n",
    "image_list = os.listdir(muffin_path)\n",
    "\n",
    "# empty array to stack muffin images in\n",
    "m_array = np.zeros([set_width, set_height, 3, len(image_list)])\n",
    "\n",
    "# loop through all images\n",
    "for i, image_name in enumerate(image_list):\n",
    "    try:\n",
    "        # reading image\n",
    "        # image = rgb2gray(io.imread(muffin_path+image_name)) # for greyscale\n",
    "        image = img_as_float(io.imread(muffin_path+image_name)) # for color\n",
    "\n",
    "        # loading height and width to determine: \n",
    "        # which dimension is smaller (to convert to set dimension)\n",
    "        # where to crop larger dimension to center image\n",
    "        image_height = image.shape[0]\n",
    "        image_width = image.shape[1]\n",
    "\n",
    "        if image_height > image_width:\n",
    "            #resizing\n",
    "            multiplier = set_width/image_width\n",
    "            new_height = int(image_height*multiplier)\n",
    "            image_resized = resize(image, (new_height, set_width), anti_aliasing=True)\n",
    "\n",
    "             #cropping\n",
    "            crop_cut = int((new_height-set_width)/2)\n",
    "            cropped = image_resized[crop_cut:crop_cut+set_width, 0:set_width]\n",
    "\n",
    "\n",
    "        else: \n",
    "            #resizing\n",
    "            multiplier = set_height/image_height\n",
    "            new_width = int(image_width*multiplier)\n",
    "            image_resized = resize(image, (set_width, new_width), anti_aliasing=True)\n",
    "\n",
    "            #cropping\n",
    "            crop_cut = int((new_width-set_width)/2)\n",
    "            cropped = image_resized[0:set_width, crop_cut:crop_cut+set_width]\n",
    "\n",
    "        # add to image stack\n",
    "        m_array[:,:,:,i] = cropped\n",
    "        if (i+1)%200 == 0:\n",
    "            print(f'Processed {i+1} out of {len(image_list)} images.')\n",
    "\n",
    "    except:\n",
    "        print(f'Error at {image_name}')\n",
    "\n",
    "# Saving image to file\n",
    "np.save('./files/m_array_150_3.npy', m_array, True)"
   ]
  },
  {
   "cell_type": "code",
   "execution_count": 5,
   "metadata": {
    "scrolled": true
   },
   "outputs": [
    {
     "name": "stdout",
     "output_type": "stream",
     "text": [
      "Error at .DS_Store\n",
      "Error at 11.tostito+the+maine+ugly+dog.png\n",
      "Processed 400 out of 1906 images.\n",
      "Processed 800 out of 1906 images.\n",
      "Error at IMG_4453.HEIC\n",
      "Error at 77.chihuahua-puppy-kid-dog-mammal-vertebrate-dog-breed-canidae-companion-dog-skin-carnivore-russkiy-toy-snout-toy-dog-puppy-love-fawn-ancient-dog-breeds-1587087.jpg\n",
      "Processed 1200 out of 1906 images.\n",
      "Processed 1600 out of 1906 images.\n",
      "Error at 92.petOpener_top_2.png\n",
      "Error at 89.SAM_0667.jpg\n",
      "Error at 80.max-chihuahua-santa-ana-pd.png\n",
      "Error at 66.cute-chihuahua-drawing-1.png\n",
      "Error at 48.6d5e85ec36694dd98b5f98f7ca34ce57.png\n"
     ]
    }
   ],
   "source": [
    "# greyscale, crop, resize and add to an array a file of images \n",
    "\n",
    "image_list = os.listdir(chihuahua_path)\n",
    "\n",
    "# empty array to stack chihuahua images in\n",
    "c_array = np.zeros([set_width, set_height, 3, len(image_list)])\n",
    "\n",
    "# loop through 100 images at a time\n",
    "for i, image_name in enumerate(image_list):\n",
    "    try:\n",
    "        # reading image\n",
    "        # image = rgb2gray(io.imread(muffin_path+image_name)) # for greyscale\n",
    "        image = img_as_float(io.imread(chihuahua_path+image_name)) # for color\n",
    "\n",
    "        # loading height and width to determine: \n",
    "        # which dimension is smaller (to make set dimension)\n",
    "        # where to crop larger dimension to center image\n",
    "        image_height = image.shape[0]\n",
    "        image_width = image.shape[1]\n",
    "\n",
    "        if image_height > image_width:\n",
    "            #resizing\n",
    "            multiplier = set_width/image_width\n",
    "            new_height = int(image_height*multiplier)\n",
    "            image_resized = resize(image, (new_height, set_width), anti_aliasing=True)\n",
    "\n",
    "             #cropping\n",
    "            crop_cut = int((new_height-set_width)/2)\n",
    "            cropped = image_resized[crop_cut:crop_cut+set_width, 0:set_width]\n",
    "\n",
    "\n",
    "        else: \n",
    "            #resizing\n",
    "            multiplier = set_height/image_height\n",
    "            new_width = int(image_width*multiplier)\n",
    "            image_resized = resize(image, (set_width, new_width), anti_aliasing=True)\n",
    "\n",
    "            #cropping\n",
    "            crop_cut = int((new_width-set_width)/2)\n",
    "            cropped = image_resized[0:set_width, crop_cut:crop_cut+set_width]\n",
    "\n",
    "            \n",
    "        # add to image stack\n",
    "        c_array[:,:,:,i] = cropped\n",
    "        if (i+1)%400 == 0:\n",
    "            print(f'Processed {i+1} out of {len(image_list)} images.')\n",
    "\n",
    "    except:\n",
    "        print(f'Error at {image_name}')\n",
    "\n",
    "# Saving image to file\n",
    "np.save('./files/c_array_150_3.npy', c_array, True)"
   ]
  },
  {
   "cell_type": "code",
   "execution_count": 4,
   "metadata": {},
   "outputs": [
    {
     "name": "stdout",
     "output_type": "stream",
     "text": [
      "c_image_6.png\n",
      "c_image_7.png\n",
      "c_image_5.png\n",
      "c_image_4.png\n",
      "c_image_1.png\n",
      "c_image_3.png\n",
      "c_image_2.png\n",
      "c_image_8.png\n",
      "m_image_8.png\n",
      "m_image_1.png\n",
      "m_image_3.png\n",
      "m_image_2.png\n",
      "m_image_6.png\n",
      "m_image_7.png\n",
      "m_image_5.png\n",
      "m_image_4.png\n"
     ]
    }
   ],
   "source": [
    "# creating file of 16 meme test images\n",
    "\n",
    "image_list1 = os.listdir('./test images/chihuahua/')\n",
    "image_list2 = os.listdir('./test images/muffin/')\n",
    "\n",
    "# empty array to stack all images in\n",
    "test_array = np.zeros([set_width, set_height, 3, len(image_list1)+len(image_list2)])\n",
    "\n",
    "\n",
    "for i, image_name in enumerate(image_list1):\n",
    "    print(image_name)\n",
    "    try:\n",
    "        # reading image; making greyscale\n",
    "        image = img_as_float(io.imread('./test images/chihuahua/'+image_name))\n",
    "        image = rgba2rgb(image)\n",
    "\n",
    "        # loading height and width to determine: \n",
    "        # which dimension is smaller (to make 200)\n",
    "        # where to crop larger dimension to center image\n",
    "        image_height = image.shape[0]\n",
    "        image_width = image.shape[1]\n",
    "\n",
    "        if image_height > image_width:\n",
    "            #resizing\n",
    "            multiplier = set_width/image_width\n",
    "            new_height = int(image_height*multiplier)\n",
    "            image_resized = resize(image, (new_height, set_width), anti_aliasing=True)\n",
    "\n",
    "             #cropping\n",
    "            crop_cut = int((new_height-set_width)/2)\n",
    "            cropped = image_resized[crop_cut:crop_cut+set_width, 0:set_width]\n",
    "\n",
    "\n",
    "        else: \n",
    "            #resizing\n",
    "            multiplier = set_height/image_height\n",
    "            new_width = int(image_width*multiplier)\n",
    "            image_resized = resize(image, (set_width, new_width), anti_aliasing=True)\n",
    "\n",
    "            #cropping\n",
    "            crop_cut = int((new_width-set_width)/2)\n",
    "            cropped = image_resized[0:set_width, crop_cut:crop_cut+set_width]\n",
    "\n",
    "            # add to image stack\n",
    "\n",
    "        test_array[:,:,:,i] = cropped\n",
    "        \n",
    "    except:\n",
    "        print(f'Error at {image_name}')\n",
    "        \n",
    "for i, image_name in enumerate(image_list2):\n",
    "    j=i+8\n",
    "    print(image_name)\n",
    "    try:\n",
    "\n",
    "        image = img_as_float(io.imread('./test images/muffin/'+image_name))\n",
    "        image = rgba2rgb(image) # Removing alpha channel data\n",
    "        \n",
    "        image_height = image.shape[0]\n",
    "        image_width = image.shape[1]\n",
    "\n",
    "        if image_height > image_width:\n",
    "            #resizing\n",
    "            multiplier = set_width/image_width\n",
    "            new_height = int(image_height*multiplier)\n",
    "            image_resized = resize(image, (new_height, set_width), anti_aliasing=True)\n",
    "\n",
    "             #cropping\n",
    "            crop_cut = int((new_height-set_width)/2)\n",
    "            cropped = image_resized[crop_cut:crop_cut+set_width, 0:set_width]\n",
    "\n",
    "\n",
    "        else: \n",
    "            #resizing\n",
    "            multiplier = set_height/image_height\n",
    "            new_width = int(image_width*multiplier)\n",
    "            image_resized = resize(image, (set_width, new_width), anti_aliasing=True)\n",
    "\n",
    "            #cropping\n",
    "            crop_cut = int((new_width-set_width)/2)\n",
    "            cropped = image_resized[0:set_width, crop_cut:crop_cut+set_width]\n",
    "\n",
    "            # add to image stack\n",
    "\n",
    "        test_array[:,:,:,j] = cropped\n",
    "    \n",
    "    except:\n",
    "        print(f'Error at {image_name}')\n",
    "\n",
    "# saving file\n",
    "np.save('./files/test_array_250_3.npy', test_array, True)\n"
   ]
  }
 ],
 "metadata": {
  "kernelspec": {
   "display_name": "Python 3",
   "language": "python",
   "name": "python3"
  },
  "language_info": {
   "codemirror_mode": {
    "name": "ipython",
    "version": 3
   },
   "file_extension": ".py",
   "mimetype": "text/x-python",
   "name": "python",
   "nbconvert_exporter": "python",
   "pygments_lexer": "ipython3",
   "version": "3.7.3"
  }
 },
 "nbformat": 4,
 "nbformat_minor": 2
}
